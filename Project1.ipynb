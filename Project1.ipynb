{
 "cells": [
  {
   "cell_type": "code",
   "execution_count": 1,
   "id": "1d0baed4-50c7-4581-b6c6-4cdd2d97f4b8",
   "metadata": {},
   "outputs": [],
   "source": [
    "#This file includes the current status of my ND DS Project 1"
   ]
  },
  {
   "cell_type": "code",
   "execution_count": null,
   "id": "078386de-57cd-4bbb-ae3a-4150394c426d",
   "metadata": {},
   "outputs": [],
   "source": []
  }
 ],
 "metadata": {
  "kernelspec": {
   "display_name": "Python 3",
   "language": "python",
   "name": "python3"
  },
  "language_info": {
   "codemirror_mode": {
    "name": "ipython",
    "version": 3
   },
   "file_extension": ".py",
   "mimetype": "text/x-python",
   "name": "python",
   "nbconvert_exporter": "python",
   "pygments_lexer": "ipython3",
   "version": "3.8.8"
  }
 },
 "nbformat": 4,
 "nbformat_minor": 5
}
