{
 "cells": [
  {
   "cell_type": "markdown",
   "id": "bce2ce01-95e4-484e-9141-0cb85714195d",
   "metadata": {},
   "source": [
    "# Subject\n",
    "The subject of this notebook is to answer the main question, if the programming language Julia has entered the fight for the top language in Data Science.\n"
   ]
  },
  {
   "cell_type": "code",
   "execution_count": 1,
   "id": "73cbb54f-cc35-4c1d-9323-6a9234eda312",
   "metadata": {},
   "outputs": [],
   "source": [
    "#Enable Auto-Complete for jupyterlab\n",
    "%config Completer.use_jedi = False"
   ]
  },
  {
   "cell_type": "code",
   "execution_count": 2,
   "id": "6b81d806-a966-42d6-ae66-d9bcdcca455d",
   "metadata": {},
   "outputs": [],
   "source": [
    "#Import all necessary libraries\n",
    "import pandas as pd\n",
    "import os\n",
    "import matplotlib.ticker as mtick\n",
    "import matplotlib.pyplot as plt\n"
   ]
  },
  {
   "cell_type": "markdown",
   "id": "4d7aef2a-fa1e-4e24-b75d-1b94b8ebe402",
   "metadata": {},
   "source": [
    "### Functions for Data Prepreration"
   ]
  },
  {
   "cell_type": "code",
   "execution_count": 3,
   "id": "856f7832-37f9-4f38-a635-7e7126e74136",
   "metadata": {},
   "outputs": [],
   "source": [
    "def data_prep(df: pd.DataFrame, strYear: str) -> pd.DataFrame:\n",
    "    '''This function is a summary of all data preprocessing steps\n",
    "    '''\n",
    "    col_to_keep=['LanguageWorkedWith','LanguageDesireNextYear']\n",
    "    \n",
    "    df= rename_col_if_exists(df,'HaveWorkedLanguage','LanguageWorkedWith')\n",
    "    df= rename_col_if_exists(df,'WantWorkLanguage','LanguageDesireNextYear')\n",
    "    df= rename_col_if_exists(df,'tech_do','LanguageWorkedWith')\n",
    "    df= rename_col_if_exists(df,'tech_want','LanguageDesireNextYear')\n",
    "    df= rename_col_if_exists(df,'occupation','DevType')\n",
    "    df= add_year(df,strYear)\n",
    "    df= classify_age(df)\n",
    "    return df\n",
    "\n",
    "def rename_col_if_exists(df: pd.DataFrame,searchCol: str,replaceCol: str) -> pd.DataFrame:\n",
    "    if searchCol in df.columns:\n",
    "        df.rename(columns={searchCol: replaceCol},inplace=True)\n",
    "    return df\n",
    "\n",
    "def classify_age(df: pd.DataFrame) -> pd.DataFrame:\n",
    "    return df\n",
    "\n",
    "def add_year (df: pd.DataFrame,strYear: str) -> pd.DataFrame:\n",
    "    df['Year']=strYear\n",
    "    return df\n"
   ]
  },
  {
   "cell_type": "markdown",
   "id": "d706e285-886d-4673-8f6e-ff995a07c6fd",
   "metadata": {},
   "source": [
    "### Data Preperation"
   ]
  },
  {
   "cell_type": "code",
   "execution_count": 4,
   "id": "1a1e0693-c372-41c6-8d71-261e737418cf",
   "metadata": {},
   "outputs": [
    {
     "name": "stderr",
     "output_type": "stream",
     "text": [
      "/Users/thomaspietras/opt/anaconda3/lib/python3.8/site-packages/IPython/core/interactiveshell.py:3165: DtypeWarning: Columns (8,12,13,14,15,16,50,51,52,53,55,56,57,58,59,60,61,62,63,64,65,66,67,68,69,70,71,72,73,74,75,76,77,78,79,80,81,82,83,84,85,93,94,95,96,97,98,99,100,101,102,103,104,105,106,107,108,109,110,111,112,113,114,115,116,117,118,119,120,121,122,123,124,125,126,127,128) have mixed types.Specify dtype option on import or set low_memory=False.\n",
      "  has_raised = await self.run_ast_nodes(code_ast.body, cell_name,\n"
     ]
    },
    {
     "data": {
      "text/html": [
       "<div>\n",
       "<style scoped>\n",
       "    .dataframe tbody tr th:only-of-type {\n",
       "        vertical-align: middle;\n",
       "    }\n",
       "\n",
       "    .dataframe tbody tr th {\n",
       "        vertical-align: top;\n",
       "    }\n",
       "\n",
       "    .dataframe thead th {\n",
       "        text-align: right;\n",
       "    }\n",
       "</style>\n",
       "<table border=\"1\" class=\"dataframe\">\n",
       "  <thead>\n",
       "    <tr style=\"text-align: right;\">\n",
       "      <th></th>\n",
       "      <th>Unnamed: 0</th>\n",
       "      <th>collector</th>\n",
       "      <th>country</th>\n",
       "      <th>un_subregion</th>\n",
       "      <th>so_region</th>\n",
       "      <th>age_range</th>\n",
       "      <th>age_midpoint</th>\n",
       "      <th>gender</th>\n",
       "      <th>self_identification</th>\n",
       "      <th>DevType</th>\n",
       "      <th>...</th>\n",
       "      <th>HoursOutside</th>\n",
       "      <th>SkipMeals</th>\n",
       "      <th>ErgonomicDevices</th>\n",
       "      <th>Exercise</th>\n",
       "      <th>SexualOrientation</th>\n",
       "      <th>EducationParents</th>\n",
       "      <th>RaceEthnicity</th>\n",
       "      <th>MilitaryUS</th>\n",
       "      <th>SurveyTooLong</th>\n",
       "      <th>SurveyEasy</th>\n",
       "    </tr>\n",
       "  </thead>\n",
       "  <tbody>\n",
       "    <tr>\n",
       "      <th>0</th>\n",
       "      <td>1888.0</td>\n",
       "      <td>Facebook</td>\n",
       "      <td>Afghanistan</td>\n",
       "      <td>Southern Asia</td>\n",
       "      <td>Central Asia</td>\n",
       "      <td>20-24</td>\n",
       "      <td>22.0</td>\n",
       "      <td>Male</td>\n",
       "      <td>Programmer</td>\n",
       "      <td>NaN</td>\n",
       "      <td>...</td>\n",
       "      <td>NaN</td>\n",
       "      <td>NaN</td>\n",
       "      <td>NaN</td>\n",
       "      <td>NaN</td>\n",
       "      <td>NaN</td>\n",
       "      <td>NaN</td>\n",
       "      <td>NaN</td>\n",
       "      <td>NaN</td>\n",
       "      <td>NaN</td>\n",
       "      <td>NaN</td>\n",
       "    </tr>\n",
       "    <tr>\n",
       "      <th>1</th>\n",
       "      <td>4637.0</td>\n",
       "      <td>Facebook</td>\n",
       "      <td>Afghanistan</td>\n",
       "      <td>Southern Asia</td>\n",
       "      <td>Central Asia</td>\n",
       "      <td>30-34</td>\n",
       "      <td>32.0</td>\n",
       "      <td>Male</td>\n",
       "      <td>Developer; Engineer; Programmer</td>\n",
       "      <td>Mobile developer - iOS</td>\n",
       "      <td>...</td>\n",
       "      <td>NaN</td>\n",
       "      <td>NaN</td>\n",
       "      <td>NaN</td>\n",
       "      <td>NaN</td>\n",
       "      <td>NaN</td>\n",
       "      <td>NaN</td>\n",
       "      <td>NaN</td>\n",
       "      <td>NaN</td>\n",
       "      <td>NaN</td>\n",
       "      <td>NaN</td>\n",
       "    </tr>\n",
       "    <tr>\n",
       "      <th>2</th>\n",
       "      <td>11164.0</td>\n",
       "      <td>Facebook</td>\n",
       "      <td>Afghanistan</td>\n",
       "      <td>Southern Asia</td>\n",
       "      <td>Central Asia</td>\n",
       "      <td>NaN</td>\n",
       "      <td>NaN</td>\n",
       "      <td>NaN</td>\n",
       "      <td>NaN</td>\n",
       "      <td>NaN</td>\n",
       "      <td>...</td>\n",
       "      <td>NaN</td>\n",
       "      <td>NaN</td>\n",
       "      <td>NaN</td>\n",
       "      <td>NaN</td>\n",
       "      <td>NaN</td>\n",
       "      <td>NaN</td>\n",
       "      <td>NaN</td>\n",
       "      <td>NaN</td>\n",
       "      <td>NaN</td>\n",
       "      <td>NaN</td>\n",
       "    </tr>\n",
       "    <tr>\n",
       "      <th>3</th>\n",
       "      <td>21378.0</td>\n",
       "      <td>Facebook</td>\n",
       "      <td>Afghanistan</td>\n",
       "      <td>Southern Asia</td>\n",
       "      <td>Central Asia</td>\n",
       "      <td>NaN</td>\n",
       "      <td>NaN</td>\n",
       "      <td>Female</td>\n",
       "      <td>Engineer</td>\n",
       "      <td>DevOps</td>\n",
       "      <td>...</td>\n",
       "      <td>NaN</td>\n",
       "      <td>NaN</td>\n",
       "      <td>NaN</td>\n",
       "      <td>NaN</td>\n",
       "      <td>NaN</td>\n",
       "      <td>NaN</td>\n",
       "      <td>NaN</td>\n",
       "      <td>NaN</td>\n",
       "      <td>NaN</td>\n",
       "      <td>NaN</td>\n",
       "    </tr>\n",
       "    <tr>\n",
       "      <th>4</th>\n",
       "      <td>30280.0</td>\n",
       "      <td>Facebook</td>\n",
       "      <td>Afghanistan</td>\n",
       "      <td>Southern Asia</td>\n",
       "      <td>Central Asia</td>\n",
       "      <td>&gt; 60</td>\n",
       "      <td>65.0</td>\n",
       "      <td>Prefer not to disclose</td>\n",
       "      <td>Developer; Engineer; Programmer; Sr. Developer...</td>\n",
       "      <td>NaN</td>\n",
       "      <td>...</td>\n",
       "      <td>NaN</td>\n",
       "      <td>NaN</td>\n",
       "      <td>NaN</td>\n",
       "      <td>NaN</td>\n",
       "      <td>NaN</td>\n",
       "      <td>NaN</td>\n",
       "      <td>NaN</td>\n",
       "      <td>NaN</td>\n",
       "      <td>NaN</td>\n",
       "      <td>NaN</td>\n",
       "    </tr>\n",
       "  </tbody>\n",
       "</table>\n",
       "<p>5 rows × 414 columns</p>\n",
       "</div>"
      ],
      "text/plain": [
       "   Unnamed: 0 collector      country   un_subregion     so_region age_range  \\\n",
       "0      1888.0  Facebook  Afghanistan  Southern Asia  Central Asia     20-24   \n",
       "1      4637.0  Facebook  Afghanistan  Southern Asia  Central Asia     30-34   \n",
       "2     11164.0  Facebook  Afghanistan  Southern Asia  Central Asia       NaN   \n",
       "3     21378.0  Facebook  Afghanistan  Southern Asia  Central Asia       NaN   \n",
       "4     30280.0  Facebook  Afghanistan  Southern Asia  Central Asia      > 60   \n",
       "\n",
       "   age_midpoint                  gender  \\\n",
       "0          22.0                    Male   \n",
       "1          32.0                    Male   \n",
       "2           NaN                     NaN   \n",
       "3           NaN                  Female   \n",
       "4          65.0  Prefer not to disclose   \n",
       "\n",
       "                                 self_identification                 DevType  \\\n",
       "0                                         Programmer                     NaN   \n",
       "1                    Developer; Engineer; Programmer  Mobile developer - iOS   \n",
       "2                                                NaN                     NaN   \n",
       "3                                           Engineer                  DevOps   \n",
       "4  Developer; Engineer; Programmer; Sr. Developer...                     NaN   \n",
       "\n",
       "   ... HoursOutside SkipMeals  ErgonomicDevices Exercise  SexualOrientation  \\\n",
       "0  ...          NaN       NaN               NaN      NaN                NaN   \n",
       "1  ...          NaN       NaN               NaN      NaN                NaN   \n",
       "2  ...          NaN       NaN               NaN      NaN                NaN   \n",
       "3  ...          NaN       NaN               NaN      NaN                NaN   \n",
       "4  ...          NaN       NaN               NaN      NaN                NaN   \n",
       "\n",
       "   EducationParents RaceEthnicity MilitaryUS SurveyTooLong  SurveyEasy  \n",
       "0               NaN           NaN        NaN           NaN         NaN  \n",
       "1               NaN           NaN        NaN           NaN         NaN  \n",
       "2               NaN           NaN        NaN           NaN         NaN  \n",
       "3               NaN           NaN        NaN           NaN         NaN  \n",
       "4               NaN           NaN        NaN           NaN         NaN  \n",
       "\n",
       "[5 rows x 414 columns]"
      ]
     },
     "execution_count": 4,
     "metadata": {},
     "output_type": "execute_result"
    }
   ],
   "source": [
    "dir_data= '../data'\n",
    "\n",
    "df= pd.DataFrame()\n",
    "\n",
    "for file in os.listdir(dir_data):\n",
    "    #Load csv file and prepare data with data_prep function\n",
    "    temp_df= pd.read_csv(dir_data+'/'+file)\n",
    "    temp_df = data_prep(temp_df, file[0:4])\n",
    "    df = df.append(temp_df)\n",
    "    \n",
    "df.head()"
   ]
  },
  {
   "cell_type": "code",
   "execution_count": 5,
   "id": "94f6b7c4-2a61-4d14-b654-48e533a3a299",
   "metadata": {},
   "outputs": [],
   "source": [
    "#Create binary columns if smb. knows Julia,Python or if the person is working in a data related position\n",
    "df['KnowsJulia']=df['LanguageWorkedWith'].str.contains('Julia',regex=False)\n",
    "df['WantsJulia']=df['LanguageDesireNextYear'].str.contains('Julia',regex=False)\n",
    "df['KnowsPython']=df['LanguageWorkedWith'].str.contains('Python',regex=False)\n",
    "df['WantsPython']=df['LanguageDesireNextYear'].str.contains('Python',regex=False)\n",
    "df['DataPerson']=df['DevType'].str.contains('data',regex=False)\n",
    "df['DataPerson']=df['DataPerson'].fillna(False)"
   ]
  },
  {
   "cell_type": "code",
   "execution_count": 6,
   "id": "29f030e1-d3c4-4c28-bd9f-524003ee7185",
   "metadata": {},
   "outputs": [
    {
     "data": {
      "text/plain": [
       "Year  KnowsJulia\n",
       "2017  True          138\n",
       "2018  True          430\n",
       "2020  True          519\n",
       "Name: KnowsJulia, dtype: int64"
      ]
     },
     "execution_count": 6,
     "metadata": {},
     "output_type": "execute_result"
    }
   ],
   "source": [
    "df[~df.KnowsJulia.isna() & df.KnowsJulia].groupby(by=['Year','KnowsJulia'],dropna=False)['KnowsJulia'].count()"
   ]
  },
  {
   "cell_type": "code",
   "execution_count": 7,
   "id": "3d271616-89eb-4430-ba67-e939ad7a5ad9",
   "metadata": {},
   "outputs": [
    {
     "data": {
      "text/plain": [
       "Year  KnowsJulia\n",
       "2017  True          0.003768\n",
       "2018  True          0.005489\n",
       "2020  True          0.009045\n",
       "Name: KnowsJulia, dtype: float64"
      ]
     },
     "execution_count": 7,
     "metadata": {},
     "output_type": "execute_result"
    }
   ],
   "source": [
    "df_grp_kn_jul=df[~df.KnowsJulia.isna() & df.KnowsJulia].groupby(by=['Year','KnowsJulia'],dropna=False)['KnowsJulia'].count()/df.groupby(by=['Year'],dropna=False)['KnowsJulia'].count()\n",
    "df_grp_kn_jul"
   ]
  },
  {
   "cell_type": "code",
   "execution_count": 8,
   "id": "d9547415-5ab0-4c38-86c3-49dd5bacafc8",
   "metadata": {},
   "outputs": [
    {
     "data": {
      "image/png": "[encoded data removed]",
      "text/plain": [
       "<Figure size 432x288 with 1 Axes>"
      ]
     },
     "metadata": {
      "needs_background": "light"
     },
     "output_type": "display_data"
    }
   ],
   "source": [
    "ax_kn_jul=df_grp_kn_jul.plot(kind='bar')\n",
    "ax_kn_jul.yaxis.set_major_formatter(mtick.PercentFormatter(xmax=1))\n",
    "plt.tight_layout()\n",
    "plt.savefig(fname='Pictures/KnowsJulia.png')"
   ]
  },
  {
   "cell_type": "code",
   "execution_count": 9,
   "id": "750ee10d-f893-48d6-9e3d-36c7d93c8a5b",
   "metadata": {},
   "outputs": [
    {
     "data": {
      "text/plain": [
       "Year  WantsJulia\n",
       "2017  True           515\n",
       "2018  True          1354\n",
       "2020  True          1661\n",
       "Name: WantsJulia, dtype: int64"
      ]
     },
     "execution_count": 9,
     "metadata": {},
     "output_type": "execute_result"
    }
   ],
   "source": [
    "df[~df.WantsJulia.isna() & df.WantsJulia].groupby(by=['Year','WantsJulia'],dropna=False)['WantsJulia'].count()"
   ]
  },
  {
   "cell_type": "code",
   "execution_count": 10,
   "id": "70da62f9-c7ab-4b7a-b441-437a33564d8b",
   "metadata": {},
   "outputs": [
    {
     "data": {
      "text/plain": [
       "Year  WantsJulia\n",
       "2017  True          0.015250\n",
       "2018  True          0.018486\n",
       "2020  True          0.030695\n",
       "Name: WantsJulia, dtype: float64"
      ]
     },
     "execution_count": 10,
     "metadata": {},
     "output_type": "execute_result"
    }
   ],
   "source": [
    "df_grp_w_jul=df[~df.WantsJulia.isna() & df.WantsJulia].groupby(by=['Year','WantsJulia'],dropna=False)['WantsJulia'].count()/df.groupby(by=['Year'],dropna=False)['WantsJulia'].count()\n",
    "df_grp_w_jul"
   ]
  },
  {
   "cell_type": "code",
   "execution_count": 11,
   "id": "712a7a9b-ed6d-46ae-b607-c26bcf708429",
   "metadata": {},
   "outputs": [
    {
     "data": {
      "image/png": "[encoded data removed]",
      "text/plain": [
       "<Figure size 432x288 with 1 Axes>"
      ]
     },
     "metadata": {
      "needs_background": "light"
     },
     "output_type": "display_data"
    }
   ],
   "source": [
    "ax_w_jul=df_grp_w_jul.plot(kind='bar')\n",
    "ax_w_jul.yaxis.set_major_formatter(mtick.PercentFormatter(xmax=1))\n",
    "plt.tight_layout()\n",
    "plt.savefig(fname='Pictures/WantsJulia.png')"
   ]
  },
  {
   "cell_type": "code",
   "execution_count": 12,
   "id": "b6acde9b-3523-44b1-9deb-2c3ae6cab624",
   "metadata": {},
   "outputs": [
    {
     "data": {
      "text/plain": [
       "Year  KnowsPython\n",
       "2016  True           0.250525\n",
       "2017  True           0.319563\n",
       "2018  True           0.387558\n",
       "2019  True           0.416163\n",
       "2020  True           0.440709\n",
       "Name: KnowsPython, dtype: float64"
      ]
     },
     "execution_count": 12,
     "metadata": {},
     "output_type": "execute_result"
    }
   ],
   "source": [
    "df_grp_kn_py=df[~df.KnowsPython.isna() & df.KnowsPython].groupby(by=['Year','KnowsPython'],dropna=False)['KnowsPython'].count()/df.groupby(by=['Year'],dropna=False)['KnowsPython'].count()\n",
    "df_grp_kn_py"
   ]
  },
  {
   "cell_type": "code",
   "execution_count": 13,
   "id": "c15921a1-e85c-4b9d-8be8-f4102922ae1d",
   "metadata": {},
   "outputs": [
    {
     "data": {
      "text/plain": [
       "Year  KnowsPython\n",
       "2016  True           12282\n",
       "2017  True           11704\n",
       "2018  True           30359\n",
       "2019  True           36443\n",
       "2020  True           25287\n",
       "Name: KnowsPython, dtype: int64"
      ]
     },
     "execution_count": 13,
     "metadata": {},
     "output_type": "execute_result"
    }
   ],
   "source": [
    "df[~df.KnowsPython.isna() & df.KnowsPython].groupby(by=['Year','KnowsPython'],dropna=False)['KnowsPython'].count()"
   ]
  },
  {
   "cell_type": "code",
   "execution_count": 14,
   "id": "6d0138f9-baab-44c2-be9d-1b63476ed501",
   "metadata": {},
   "outputs": [
    {
     "data": {
      "image/png": "[encoded data removed]",
      "text/plain": [
       "<Figure size 432x288 with 1 Axes>"
      ]
     },
     "metadata": {
      "needs_background": "light"
     },
     "output_type": "display_data"
    }
   ],
   "source": [
    "ax_kn_py=df_grp_kn_py.plot(kind='bar')\n",
    "ax_kn_py.yaxis.set_major_formatter(mtick.PercentFormatter(xmax=1))\n",
    "plt.tight_layout()\n",
    "plt.savefig(fname='Pictures/KnowsPy.png')"
   ]
  },
  {
   "cell_type": "code",
   "execution_count": 15,
   "id": "ffe6cf88-be7e-4640-a042-ef1f9f9c8620",
   "metadata": {},
   "outputs": [
    {
     "data": {
      "text/plain": [
       "Year  WantsPython\n",
       "2016  True           0.281427\n",
       "2017  True           0.372213\n",
       "2018  True           0.447750\n",
       "2019  True           0.475763\n",
       "2020  True           0.493079\n",
       "Name: WantsPython, dtype: float64"
      ]
     },
     "execution_count": 15,
     "metadata": {},
     "output_type": "execute_result"
    }
   ],
   "source": [
    "df_grp_w_py=df[~df.WantsPython.isna() & df.WantsPython].groupby(by=['Year','WantsPython'],dropna=False)['WantsPython'].count()/df.groupby(by=['Year'],dropna=False)['WantsPython'].count()\n",
    "df_grp_w_py"
   ]
  },
  {
   "cell_type": "code",
   "execution_count": 16,
   "id": "b0f4aca7-b9ee-4bc4-a26c-3d0cbb488cb2",
   "metadata": {},
   "outputs": [
    {
     "data": {
      "image/png": "[encoded data removed]",
      "text/plain": [
       "<Figure size 432x288 with 1 Axes>"
      ]
     },
     "metadata": {
      "needs_background": "light"
     },
     "output_type": "display_data"
    }
   ],
   "source": [
    "ax_w_py=df_grp_w_py.plot(kind='bar')\n",
    "ax_w_py.yaxis.set_major_formatter(mtick.PercentFormatter(xmax=1))\n",
    "plt.tight_layout()\n",
    "plt.savefig(fname='Pictures/WantsPy.png')"
   ]
  },
  {
   "cell_type": "code",
   "execution_count": 17,
   "id": "b98da229-ea8b-44cd-b887-4fca1971abf4",
   "metadata": {},
   "outputs": [
    {
     "data": {
      "text/plain": [
       "DataPerson  Year  KnowsJulia\n",
       "False       2017  True          138\n",
       "            2018  True          430\n",
       "            2020  True          435\n",
       "True        2020  True           84\n",
       "Name: KnowsJulia, dtype: int64"
      ]
     },
     "execution_count": 17,
     "metadata": {},
     "output_type": "execute_result"
    }
   ],
   "source": [
    "df[~df.KnowsJulia.isna() & df.KnowsJulia].groupby(by=['DataPerson','Year','KnowsJulia'],dropna=False)['KnowsJulia'].count()"
   ]
  },
  {
   "cell_type": "code",
   "execution_count": 47,
   "id": "5073c877-60db-433e-9298-49eca05f2bff",
   "metadata": {},
   "outputs": [],
   "source": [
    "df20=df[df.Year=='2020']"
   ]
  },
  {
   "cell_type": "code",
   "execution_count": 48,
   "id": "adab0436-94ae-4dff-86be-8e03d61e5480",
   "metadata": {},
   "outputs": [
    {
     "data": {
      "text/plain": [
       "DataPerson  Year  KnowsJulia\n",
       "False       2020  True          0.008077\n",
       "True        2020  True          0.023850\n",
       "Name: KnowsJulia, dtype: float64"
      ]
     },
     "execution_count": 48,
     "metadata": {},
     "output_type": "execute_result"
    }
   ],
   "source": [
    "df_grp_dp_knJul=df20[(~df20.KnowsJulia.isna()) & df20.KnowsJulia].groupby(by=['DataPerson','Year','KnowsJulia'],dropna=False)['KnowsJulia'].count()/df20[df20.Year=='2020'].groupby(by=['DataPerson','Year'],dropna=False)['KnowsJulia'].count()\n",
    "df_grp_dp_knJul"
   ]
  },
  {
   "cell_type": "code",
   "execution_count": 49,
   "id": "eed4bcc6-d0ce-4eec-a157-86820a20e168",
   "metadata": {},
   "outputs": [
    {
     "data": {
      "image/png": "[encoded data removed]",
      "text/plain": [
       "<Figure size 432x288 with 1 Axes>"
      ]
     },
     "metadata": {
      "needs_background": "light"
     },
     "output_type": "display_data"
    }
   ],
   "source": [
    "ax_k_py_dp=df_grp_dp_knJul.plot(kind='bar')\n",
    "ax_k_py_dp.yaxis.set_major_formatter(mtick.PercentFormatter(xmax=1))\n",
    "plt.tight_layout()\n",
    "plt.savefig(fname='Pictures/KnowsJulDataPerson.png')"
   ]
  },
  {
   "cell_type": "code",
   "execution_count": 46,
   "id": "f2a22c7b-0f9e-49fb-b289-e21db77fb0c7",
   "metadata": {},
   "outputs": [
    {
     "data": {
      "text/plain": [
       "DataPerson  Year  WantsJulia\n",
       "False       2020  True          0.028223\n",
       "True        2020  True          0.068284\n",
       "Name: WantsJulia, dtype: float64"
      ]
     },
     "execution_count": 46,
     "metadata": {},
     "output_type": "execute_result"
    }
   ],
   "source": [
    "df_grp_dp_wntJul=df20[(~df20.WantsJulia.isna()) & df20.WantsJulia].groupby(by=['DataPerson','Year','WantsJulia'],dropna=False)['WantsJulia'].count()/df20[df20.Year=='2020'].groupby(by=['DataPerson','Year'],dropna=False)['WantsJulia'].count()\n",
    "df_grp_dp_wntJul"
   ]
  },
  {
   "cell_type": "code",
   "execution_count": 45,
   "id": "f2d698d7-29a8-4c98-8fcb-d5b44ebcbf5c",
   "metadata": {},
   "outputs": [
    {
     "data": {
      "image/png": "[encoded data removed]",
      "text/plain": [
       "<Figure size 432x288 with 1 Axes>"
      ]
     },
     "metadata": {
      "needs_background": "light"
     },
     "output_type": "display_data"
    }
   ],
   "source": [
    "ax_w_py=df_grp_dp_wntJul.plot(kind='bar')\n",
    "ax_w_py.yaxis.set_major_formatter(mtick.PercentFormatter(xmax=1))\n",
    "plt.tight_layout()\n",
    "plt.savefig(fname='Pictures/WantsJulDataPerson.png')"
   ]
  }
 ],
 "metadata": {
  "kernelspec": {
   "display_name": "Python 3",
   "language": "python",
   "name": "python3"
  },
  "language_info": {
   "codemirror_mode": {
    "name": "ipython",
    "version": 3
   },
   "file_extension": ".py",
   "mimetype": "text/x-python",
   "name": "python",
   "nbconvert_exporter": "python",
   "pygments_lexer": "ipython3",
   "version": "3.8.8"
  }
 },
 "nbformat": 4,
 "nbformat_minor": 5
}
