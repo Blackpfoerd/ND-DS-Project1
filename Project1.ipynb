{
 "cells": [
  {
   "cell_type": "code",
   "execution_count": null,
   "id": "1d0baed4-50c7-4581-b6c6-4cdd2d97f4b8",
   "metadata": {},
   "outputs": [],
   "source": [
    "#This file includes the current status of my ND DS Project 1"
   ]
  },
  {
   "cell_type": "markdown",
   "id": "bce2ce01-95e4-484e-9141-0cb85714195d",
   "metadata": {},
   "source": [
    "#Projekt: Ist Julia the new kid on the block\n",
    "-reinschreiben was Julia ist und wo es her kommt --> Copy paste von MIT Seite\n",
    "-Vorteile von Julia\n",
    "\n",
    "Wie ist der Status quo -> Stackoverflow Trend\n",
    "\n",
    "Frage 1: Wie entwickelt sich der Demand\n",
    "Frage 2: Wie entwickelt sich Julia im Vergleich zu Python nutzern unter Data \"Leuten\"\n",
    "Frage 3: ???\n",
    "\n",
    "Conclussion\n",
    "\n",
    "Letzte Frage: Whats your opinion about Julia"
   ]
  },
  {
   "cell_type": "code",
   "execution_count": null,
   "id": "6b81d806-a966-42d6-ae66-d9bcdcca455d",
   "metadata": {},
   "outputs": [],
   "source": [
    "import pandas as pd\n",
    "df= pd.DataFrame()"
   ]
  },
  {
   "cell_type": "code",
   "execution_count": null,
   "id": "1a1e0693-c372-41c6-8d71-261e737418cf",
   "metadata": {},
   "outputs": [],
   "source": [
    "import os\n",
    "\n",
    "dir_data= '../data'\n",
    "\n",
    "for file in os.listdir(dir_data):\n",
    "    #Load csv file and prepare data with data_prep function\n",
    "    temp_df = data_prep(pd.read_csv(dir_data+'/'+file))\n",
    "    df = df.append(temp_df)\n"
   ]
  },
  {
   "cell_type": "code",
   "execution_count": null,
   "id": "856f7832-37f9-4f38-a635-7e7126e74136",
   "metadata": {},
   "outputs": [],
   "source": [
    "def data_prep(df: pd.DataFrame) -> pd.DataFrame:\n",
    "    if 'HaveWorkedLanguage' in df.columns:\n",
    "        df.remame(columns={'HaveWorkedLanguage': 'LanguageWorkedWith'})\n",
    "    if 'WantWorkDatabase' in df.columns:\n",
    "        df.remame(columns={'WantWorkDatabase': 'LanguageDesireNextYear'})\n",
    "    return df\n",
    "# LanguageDesireNextYear LanguageDesireNextYear HaveWorkedLanguage"
   ]
  },
  {
   "cell_type": "code",
   "execution_count": null,
   "id": "b415614b-2b06-49c6-a44c-b8860008de12",
   "metadata": {},
   "outputs": [],
   "source": [
    "\n",
    "df2020= pd.read_csv('../data/2020survey_results_public.csv')\n",
    "df2019=pd.read_csv('../data/2019survey_results_public.csv')\n",
    "#add year column to dataframe\n",
    "\n",
    "def add_year (df: pd.DataFrame,strYear: str) -> pd.DataFrame:\n",
    "    df['Year']=strYear\n",
    "    return df"
   ]
  },
  {
   "cell_type": "code",
   "execution_count": null,
   "id": "94f6b7c4-2a61-4d14-b654-48e533a3a299",
   "metadata": {},
   "outputs": [],
   "source": [
    "#Please get all necessary files from \n",
    "df_new = add_year(df2020,'2019')\n"
   ]
  },
  {
   "cell_type": "code",
   "execution_count": null,
   "id": "3e639a62-87ea-42c0-841b-bdff977f569e",
   "metadata": {},
   "outputs": [],
   "source": [
    "df_new.head()"
   ]
  },
  {
   "cell_type": "code",
   "execution_count": null,
   "id": "a0ecadcf-4b86-46a4-a85b-6fbc67d41c90",
   "metadata": {},
   "outputs": [],
   "source": [
    "df2019.head()"
   ]
  },
  {
   "cell_type": "code",
   "execution_count": null,
   "id": "5a6b5a65-3782-411a-833e-4b484c9ebea9",
   "metadata": {},
   "outputs": [],
   "source": []
  }
 ],
 "metadata": {
  "kernelspec": {
   "display_name": "Python 3",
   "language": "python",
   "name": "python3"
  },
  "language_info": {
   "codemirror_mode": {
    "name": "ipython",
    "version": 3
   },
   "file_extension": ".py",
   "mimetype": "text/x-python",
   "name": "python",
   "nbconvert_exporter": "python",
   "pygments_lexer": "ipython3",
   "version": "3.8.8"
  }
 },
 "nbformat": 4,
 "nbformat_minor": 5
}
