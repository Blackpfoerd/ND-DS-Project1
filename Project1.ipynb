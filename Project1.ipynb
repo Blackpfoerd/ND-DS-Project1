{
 "cells": [
  {
   "cell_type": "markdown",
   "id": "bce2ce01-95e4-484e-9141-0cb85714195d",
   "metadata": {},
   "source": [
    "#Projekt: Ist Julia the new kid on the block\n",
    "-reinschreiben was Julia ist und wo es her kommt --> Copy paste von MIT Seite\n",
    "-Vorteile von Julia\n",
    "\n",
    "Wie ist der Status quo -> Stackoverflow Trend\n",
    "\n",
    "Frage 1: Wie entwickelt sich der Demand\n",
    "Frage 2: Wie entwickelt sich Julia im Vergleich zu Python nutzern unter Data \"Leuten\"\n",
    "Frage 3: ???\n",
    "\n",
    "Conclussion\n",
    "\n",
    "Letzte Frage: Whats your opinion about Julia"
   ]
  },
  {
   "cell_type": "code",
   "execution_count": 1,
   "id": "73cbb54f-cc35-4c1d-9323-6a9234eda312",
   "metadata": {},
   "outputs": [],
   "source": [
    "%config Completer.use_jedi = False"
   ]
  },
  {
   "cell_type": "code",
   "execution_count": 2,
   "id": "6b81d806-a966-42d6-ae66-d9bcdcca455d",
   "metadata": {},
   "outputs": [],
   "source": [
    "import pandas as pd\n",
    "import os\n",
    "import matplotlib.ticker as mtick\n",
    "df= pd.DataFrame()"
   ]
  },
  {
   "cell_type": "code",
   "execution_count": 3,
   "id": "856f7832-37f9-4f38-a635-7e7126e74136",
   "metadata": {},
   "outputs": [],
   "source": [
    "def data_prep(df: pd.DataFrame, strYear: str) -> pd.DataFrame:\n",
    "    #This function is a summary of all data preprocessing steps\n",
    "    #LanguageDesireNextYear\n",
    "    col_to_keep=['LanguageWorkedWith','LanguageDesireNextYear']\n",
    "    \n",
    "    df= rename_col_if_exists(df,'HaveWorkedLanguage','LanguageWorkedWith')\n",
    "    df= rename_col_if_exists(df,'WantWorkLanguage','LanguageDesireNextYear')\n",
    "    df= rename_col_if_exists(df,'tech_do','LanguageWorkedWith')\n",
    "    df= rename_col_if_exists(df,'tech_want','LanguageDesireNextYear')\n",
    "    df= add_year(df,strYear)\n",
    "    df= classify_age(df)\n",
    "    \n",
    "    \n",
    "    return df\n",
    "\n",
    "def rename_col_if_exists(df: pd.DataFrame,searchCol: str,replaceCol: str) -> pd.DataFrame:\n",
    "    if searchCol in df.columns:\n",
    "        df.rename(columns={searchCol: replaceCol},inplace=True)\n",
    "    return df\n",
    "\n",
    "def classify_age(df: pd.DataFrame) -> pd.DataFrame:\n",
    "    return df\n",
    "\n",
    "def add_year (df: pd.DataFrame,strYear: str) -> pd.DataFrame:\n",
    "    df['Year']=strYear\n",
    "    return df\n",
    "\n",
    "# LanguageDesireNextYear LanguageDesireNextYear HaveWorkedLanguage"
   ]
  },
  {
   "cell_type": "code",
   "execution_count": 4,
   "id": "1a1e0693-c372-41c6-8d71-261e737418cf",
   "metadata": {},
   "outputs": [
    {
     "name": "stderr",
     "output_type": "stream",
     "text": [
      "/Users/thomaspietras/opt/anaconda3/lib/python3.8/site-packages/IPython/core/interactiveshell.py:3165: DtypeWarning: Columns (8,12,13,14,15,16,50,51,52,53,55,56,57,58,59,60,61,62,63,64,65,66,67,68,69,70,71,72,73,74,75,76,77,78,79,80,81,82,83,84,85,93,94,95,96,97,98,99,100,101,102,103,104,105,106,107,108,109,110,111,112,113,114,115,116,117,118,119,120,121,122,123,124,125,126,127,128) have mixed types.Specify dtype option on import or set low_memory=False.\n",
      "  has_raised = await self.run_ast_nodes(code_ast.body, cell_name,\n"
     ]
    }
   ],
   "source": [
    "dir_data= '../data'\n",
    "\n",
    "for file in os.listdir(dir_data):\n",
    "    #Load csv file and prepare data with data_prep function\n",
    "    temp_df= pd.read_csv(dir_data+'/'+file)\n",
    "    temp_df = data_prep(temp_df, file[0:4])\n",
    "    df = df.append(temp_df)"
   ]
  },
  {
   "cell_type": "code",
   "execution_count": null,
   "id": "b415614b-2b06-49c6-a44c-b8860008de12",
   "metadata": {},
   "outputs": [],
   "source": [
    "df.head()"
   ]
  },
  {
   "cell_type": "code",
   "execution_count": 5,
   "id": "94f6b7c4-2a61-4d14-b654-48e533a3a299",
   "metadata": {},
   "outputs": [],
   "source": [
    "#Find the columns with Julia\n",
    "df['KnowsJulia']=df['LanguageWorkedWith'].str.contains('Julia',regex=False)"
   ]
  },
  {
   "cell_type": "code",
   "execution_count": null,
   "id": "cb1a580e-afb6-4461-b353-59df147483b1",
   "metadata": {
    "tags": []
   },
   "outputs": [],
   "source": [
    "df['KnowsJulia'].value_counts()"
   ]
  },
  {
   "cell_type": "code",
   "execution_count": 6,
   "id": "96dcf29e-1ddf-4275-be27-72c99a56e813",
   "metadata": {},
   "outputs": [],
   "source": [
    "df['WantsJulia']=df['LanguageDesireNextYear'].str.contains('Julia',regex=False)"
   ]
  },
  {
   "cell_type": "code",
   "execution_count": null,
   "id": "28d5d4ac-a380-4908-ad7c-3f269be9624a",
   "metadata": {},
   "outputs": [],
   "source": [
    "df['WantsJulia'].value_counts()"
   ]
  },
  {
   "cell_type": "code",
   "execution_count": null,
   "id": "4c3e68cf-05ac-403f-b157-ebf03120edd3",
   "metadata": {},
   "outputs": [],
   "source": [
    "df.groupby(by='Year').count()"
   ]
  },
  {
   "cell_type": "code",
   "execution_count": null,
   "id": "7dee46c9-f18f-4921-85be-98780194cdb9",
   "metadata": {},
   "outputs": [],
   "source": [
    "df_group=df.groupby(by=['Year','WantsJulia'],dropna=False)['WantsJulia'].count()/df.groupby(by=['Year'],dropna=False)['WantsJulia'].count()"
   ]
  },
  {
   "cell_type": "code",
   "execution_count": null,
   "id": "e79a31e2-3efc-46f9-8e7f-12902cb5281c",
   "metadata": {},
   "outputs": [],
   "source": [
    "import matplotlib.pyplot as plt"
   ]
  },
  {
   "cell_type": "code",
   "execution_count": null,
   "id": "901038b0-bec7-484b-ab0d-af466625230f",
   "metadata": {},
   "outputs": [],
   "source": [
    "df['WantsJulia'].isna().value_counts()"
   ]
  },
  {
   "cell_type": "code",
   "execution_count": 13,
   "id": "29f030e1-d3c4-4c28-bd9f-524003ee7185",
   "metadata": {},
   "outputs": [],
   "source": [
    "df_group=df[~df.WantsJulia.isna() & df.WantsJulia].groupby(by=['Year','WantsJulia'],dropna=False)['WantsJulia'].count()/df.groupby(by=['Year'],dropna=False)['WantsJulia'].count()"
   ]
  },
  {
   "cell_type": "code",
   "execution_count": 15,
   "id": "6b259e42-8a89-4545-98b1-2cd3ebbd5300",
   "metadata": {},
   "outputs": [],
   "source": [
    "import matplotlib.ticker as mtick"
   ]
  },
  {
   "cell_type": "code",
   "execution_count": 28,
   "id": "d9547415-5ab0-4c38-86c3-49dd5bacafc8",
   "metadata": {},
   "outputs": [
    {
     "data": {
      "image/png": "[encoded data removed]",
      "text/plain": [
       "<Figure size 432x288 with 1 Axes>"
      ]
     },
     "metadata": {
      "needs_background": "light"
     },
     "output_type": "display_data"
    }
   ],
   "source": [
    "import matplotlib.pyplot as plt\n",
    "ax=df_group.plot(kind='bar')\n",
    "ax.yaxis.set_major_formatter(mtick.PercentFormatter(xmax=1))\n",
    "plt.savefig(fname='Pictures/WantsJulia.png')"
   ]
  },
  {
   "cell_type": "code",
   "execution_count": 21,
   "id": "6d1ea8a6-2348-48cf-801e-91c10746d26d",
   "metadata": {},
   "outputs": [
    {
     "ename": "AttributeError",
     "evalue": "'AxesSubplot' object has no attribute 'savefig'",
     "output_type": "error",
     "traceback": [
      "\u001b[0;31m---------------------------------------------------------------------------\u001b[0m",
      "\u001b[0;31mAttributeError\u001b[0m                            Traceback (most recent call last)",
      "\u001b[0;32m<ipython-input-21-a295b41f84dc>\u001b[0m in \u001b[0;36m<module>\u001b[0;34m\u001b[0m\n\u001b[0;32m----> 1\u001b[0;31m \u001b[0mplt\u001b[0m\u001b[0;34m.\u001b[0m\u001b[0msavefig\u001b[0m\u001b[0;34m(\u001b[0m\u001b[0;34m)\u001b[0m\u001b[0;34m\u001b[0m\u001b[0;34m\u001b[0m\u001b[0m\n\u001b[0m",
      "\u001b[0;31mAttributeError\u001b[0m: 'AxesSubplot' object has no attribute 'savefig'"
     ]
    }
   ],
   "source": [
    "plt.savefig()"
   ]
  },
  {
   "cell_type": "code",
   "execution_count": null,
   "id": "70da62f9-c7ab-4b7a-b441-437a33564d8b",
   "metadata": {},
   "outputs": [],
   "source": []
  }
 ],
 "metadata": {
  "kernelspec": {
   "display_name": "Python 3",
   "language": "python",
   "name": "python3"
  },
  "language_info": {
   "codemirror_mode": {
    "name": "ipython",
    "version": 3
   },
   "file_extension": ".py",
   "mimetype": "text/x-python",
   "name": "python",
   "nbconvert_exporter": "python",
   "pygments_lexer": "ipython3",
   "version": "3.8.8"
  }
 },
 "nbformat": 4,
 "nbformat_minor": 5
}
